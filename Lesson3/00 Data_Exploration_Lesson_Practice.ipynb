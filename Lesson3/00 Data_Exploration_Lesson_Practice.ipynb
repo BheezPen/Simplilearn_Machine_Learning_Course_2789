{
 "cells": [
  {
   "cell_type": "markdown",
   "id": "5269ea6b-a57b-46c8-808e-5ce3fdf78783",
   "metadata": {},
   "source": [
    "Lesson 3: Data Exploration - Lesson Practice"
   ]
  }
 ],
 "metadata": {
  "kernelspec": {
   "display_name": "Python 3 (ipykernel)",
   "language": "python",
   "name": "python3"
  },
  "language_info": {
   "codemirror_mode": {
    "name": "ipython",
    "version": 3
   },
   "file_extension": ".py",
   "mimetype": "text/x-python",
   "name": "python",
   "nbconvert_exporter": "python",
   "pygments_lexer": "ipython3",
   "version": "3.11.5"
  }
 },
 "nbformat": 4,
 "nbformat_minor": 5
}
